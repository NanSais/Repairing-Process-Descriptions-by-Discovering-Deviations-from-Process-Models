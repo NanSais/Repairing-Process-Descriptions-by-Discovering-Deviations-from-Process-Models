{
 "cells": [
  {
   "cell_type": "code",
   "execution_count": 10,
   "metadata": {},
   "outputs": [],
   "source": [
    "from sentence_transformers import SentenceTransformer, util\n",
    "import pm4py\n",
    "from pm4py.objects.bpmn.obj import BPMN\n",
    "import torch\n",
    "import torch.nn.functional as F\n",
    "import numpy as np\n",
    "import pandas as pd"
   ]
  },
  {
   "cell_type": "code",
   "execution_count": 13,
   "metadata": {},
   "outputs": [
    {
     "data": {
      "application/vnd.jupyter.widget-view+json": {
       "model_id": "266b61c050974cbd8b1fc38ab7497a5e",
       "version_major": 2,
       "version_minor": 0
      },
      "text/plain": [
       "exporting log, completed traces ::   0%|          | 0/1000 [00:00<?, ?it/s]"
      ]
     },
     "metadata": {},
     "output_type": "display_data"
    }
   ],
   "source": [
    "bpmn = pm4py.read_bpmn('R_j04_event.bpmn')\n",
    "net, im, fm = pm4py.convert_to_petri_net(bpmn)\n",
    "log = pm4py.play_out(net, im, fm)\n",
    "pm4py.write_xes(log, 'R_j04_event.xes', case_id_key='case:concept:name')"
   ]
  },
  {
   "cell_type": "code",
   "execution_count": 2,
   "metadata": {},
   "outputs": [],
   "source": [
    "bpmn = pm4py.read_bpmn('R_j04_text.bpmn')\n",
    "temp=[]\n",
    "for flow in bpmn.get_flows():\n",
    "    temp.append([flow.source,flow.target,flow.get_name()])\n",
    "\n",
    "for rel in temp:\n",
    "    if(isinstance(rel[1],BPMN.Gateway) and len(rel[1].get_in_arcs())>1):\n",
    "        rel[1]=rel[1].get_out_arcs()[0].target\n",
    "        while(isinstance(rel[1],BPMN.Gateway)):\n",
    "            rel[1]=rel[1].get_out_arcs()[0].target\n",
    "\n",
    "temp1=[]\n",
    "for rel in temp:\n",
    "    if(rel[0]==rel[1]):\n",
    "        continue\n",
    "    elif(isinstance(rel[0],BPMN.Gateway) and len(rel[0].get_in_arcs())>1):\n",
    "        continue\n",
    "    else:\n",
    "        temp1.append(rel)\n",
    "df_BPMN = pd.DataFrame(columns=['Source', 'Target', 'Relation'])\n",
    "for rel in temp1:\n",
    "    if(isinstance(rel[1],BPMN.EndEvent) or isinstance(rel[0],BPMN.StartEvent)):\n",
    "        continue\n",
    "    if(isinstance(rel[0],BPMN.ExclusiveGateway)):\n",
    "        # temp2.append([rel[0].get_in_arcs()[0].source, rel[1]])\n",
    "        df_BPMN = df_BPMN.append({'Source': rel[0].get_in_arcs()[0].source.name, 'Target': rel[1].name, 'Relation': 'XOR_gateway'}, ignore_index=True)\n",
    "        df_BPMN = df_BPMN.append({'Source': rel[2], 'Target': rel[1].name, 'Relation': 'XOR_condition'}, ignore_index=True)\n",
    "        # print([rel[0].get_in_arcs()[0].source, rel[1]])\n",
    "    elif(isinstance(rel[1],BPMN.ExclusiveGateway)):\n",
    "        continue\n",
    "    elif(isinstance(rel[0],BPMN.ParallelGateway)):\n",
    "        df_BPMN = df_BPMN.append({'Source': rel[0].get_in_arcs()[0].source.name, 'Target': rel[1].name, 'Relation': 'parallel_gateway'}, ignore_index=True)\n",
    "    elif(isinstance(rel[1],BPMN.ParallelGateway)):\n",
    "        continue\n",
    "    else:\n",
    "        df_BPMN = df_BPMN.append({'Source': rel[0].name, 'Target': rel[1].name, 'Relation': 'Flow'}, ignore_index=True)"
   ]
  },
  {
   "cell_type": "code",
   "execution_count": 3,
   "metadata": {},
   "outputs": [],
   "source": [
    "# log = pm4py.read_xes(\"R_j04_event.xes\")\n",
    "# bpmn_event = pm4py.discover_bpmn_inductive(log, activity_key='concept:name', case_id_key='case:concept:name', timestamp_key='time:timestamp')\n",
    "bpmn_event = pm4py.read_bpmn('R_j04_event.bpmn')\n",
    "temp=[]\n",
    "for flow in bpmn_event.get_flows():\n",
    "    temp.append([flow.source,flow.target,flow.get_name()])\n",
    "for rel in temp:\n",
    "    if(isinstance(rel[1],BPMN.Gateway) and len(rel[1].get_in_arcs())>1):\n",
    "        rel[1]=rel[1].get_out_arcs()[0].target\n",
    "        while(isinstance(rel[1],BPMN.Gateway)):\n",
    "            rel[1]=rel[1].get_out_arcs()[0].target\n",
    "\n",
    "temp1=[]\n",
    "for rel in temp:\n",
    "    if(rel[0]==rel[1]):\n",
    "        continue\n",
    "    elif(isinstance(rel[0],BPMN.Gateway) and len(rel[0].get_in_arcs())>1):\n",
    "        continue\n",
    "    else:\n",
    "        temp1.append(rel)\n",
    "df_BPMN_event = pd.DataFrame(columns=['Source', 'Target', 'Relation'])\n",
    "for rel in temp1:\n",
    "    if(isinstance(rel[1],BPMN.EndEvent) or isinstance(rel[0],BPMN.StartEvent)):\n",
    "        continue\n",
    "    if(isinstance(rel[0],BPMN.ExclusiveGateway)):\n",
    "        # temp2.append([rel[0].get_in_arcs()[0].source, rel[1]])\n",
    "        df_BPMN_event = df_BPMN_event.append({'Source': rel[0].get_in_arcs()[0].source.name, 'Target': rel[1].name, 'Relation': 'XOR_gateway'}, ignore_index=True)\n",
    "        df_BPMN_event = df_BPMN_event.append({'Source': rel[2], 'Target': rel[1].name, 'Relation': 'XOR_condition'}, ignore_index=True)\n",
    "        # print([rel[0].get_in_arcs()[0].source, rel[1]])\n",
    "    elif(isinstance(rel[1],BPMN.ExclusiveGateway)):\n",
    "        continue\n",
    "    elif(isinstance(rel[0],BPMN.ParallelGateway)):\n",
    "        df_BPMN_event = df_BPMN_event.append({'Source': rel[0].get_in_arcs()[0].source.name, 'Target': rel[1].name, 'Relation': 'parallel_gateway'}, ignore_index=True)\n",
    "    elif(isinstance(rel[1],BPMN.ParallelGateway)):\n",
    "        continue\n",
    "    else:\n",
    "        df_BPMN_event = df_BPMN_event.append({'Source': rel[0].name, 'Target': rel[1].name, 'Relation': 'Flow'}, ignore_index=True)"
   ]
  },
  {
   "cell_type": "code",
   "execution_count": 4,
   "metadata": {},
   "outputs": [],
   "source": [
    "list_event=[]\n",
    "for row in df_BPMN_event.itertuples(index=False):\n",
    "    if(row.Relation!='XOR_condition'):\n",
    "        list_event.append((row.Source,row.Target,row.Relation))\n",
    "list_BPMN=[]\n",
    "for row in df_BPMN.itertuples(index=False):\n",
    "    if(row.Relation!='XOR_condition'):\n",
    "        list_BPMN.append((row.Source,row.Target,row.Relation))\n",
    "dif_gold=set(list(set(list_BPMN).difference(set(list_event)))+list(set(list_event).difference(set(list_BPMN))))"
   ]
  },
  {
   "cell_type": "code",
   "execution_count": 5,
   "metadata": {},
   "outputs": [
    {
     "name": "stderr",
     "output_type": "stream",
     "text": [
      "c:\\Users\\20235451\\.conda\\envs\\trochtest\\lib\\site-packages\\pm4py\\util\\dt_parsing\\parser.py:78: UserWarning: ISO8601 strings are not fully supported with strpfromiso for Python versions below 3.11\n",
      "  \"ISO8601 strings are not fully supported with strpfromiso for Python versions below 3.11\")\n"
     ]
    },
    {
     "data": {
      "application/vnd.jupyter.widget-view+json": {
       "model_id": "a37f6e71b4b744b48d39c95acf4f405c",
       "version_major": 2,
       "version_minor": 0
      },
      "text/plain": [
       "parsing log, completed traces ::   0%|          | 0/1000 [00:00<?, ?it/s]"
      ]
     },
     "metadata": {},
     "output_type": "display_data"
    }
   ],
   "source": [
    "log = pm4py.read_xes(\"R_j04_event.xes\")\n",
    "bpmn_event = pm4py.discover_bpmn_inductive(log, activity_key='concept:name', case_id_key='case:concept:name', timestamp_key='time:timestamp')\n",
    "# bpmn_event = pm4py.read_bpmn('R_j04_event.bpmn')\n",
    "temp=[]\n",
    "for flow in bpmn_event.get_flows():\n",
    "    temp.append([flow.source,flow.target,flow.get_name()])\n",
    "for rel in temp:\n",
    "    if(isinstance(rel[1],BPMN.Gateway) and len(rel[1].get_in_arcs())>1):\n",
    "        rel[1]=rel[1].get_out_arcs()[0].target\n",
    "        while(isinstance(rel[1],BPMN.Gateway)):\n",
    "            rel[1]=rel[1].get_out_arcs()[0].target\n",
    "\n",
    "temp1=[]\n",
    "for rel in temp:\n",
    "    if(rel[0]==rel[1]):\n",
    "        continue\n",
    "    elif(isinstance(rel[0],BPMN.Gateway) and len(rel[0].get_in_arcs())>1):\n",
    "        continue\n",
    "    else:\n",
    "        temp1.append(rel)\n",
    "df_BPMN_event = pd.DataFrame(columns=['Source', 'Target', 'Relation'])\n",
    "for rel in temp1:\n",
    "    if(isinstance(rel[1],BPMN.EndEvent) or isinstance(rel[0],BPMN.StartEvent)):\n",
    "        continue\n",
    "    if(isinstance(rel[0],BPMN.ExclusiveGateway)):\n",
    "        # temp2.append([rel[0].get_in_arcs()[0].source, rel[1]])\n",
    "        df_BPMN_event = df_BPMN_event.append({'Source': rel[0].get_in_arcs()[0].source.name, 'Target': rel[1].name, 'Relation': 'XOR_gateway'}, ignore_index=True)\n",
    "        df_BPMN_event = df_BPMN_event.append({'Source': rel[2], 'Target': rel[1].name, 'Relation': 'XOR_condition'}, ignore_index=True)\n",
    "        # print([rel[0].get_in_arcs()[0].source, rel[1]])\n",
    "    elif(isinstance(rel[1],BPMN.ExclusiveGateway)):\n",
    "        continue\n",
    "    elif(isinstance(rel[0],BPMN.ParallelGateway)):\n",
    "        df_BPMN_event = df_BPMN_event.append({'Source': rel[0].get_in_arcs()[0].source.name, 'Target': rel[1].name, 'Relation': 'parallel_gateway'}, ignore_index=True)\n",
    "    elif(isinstance(rel[1],BPMN.ParallelGateway)):\n",
    "        continue\n",
    "    else:\n",
    "        df_BPMN_event = df_BPMN_event.append({'Source': rel[0].name, 'Target': rel[1].name, 'Relation': 'Flow'}, ignore_index=True)"
   ]
  },
  {
   "cell_type": "code",
   "execution_count": 6,
   "metadata": {},
   "outputs": [],
   "source": [
    "model = SentenceTransformer(\"Maite89/Roberta_finetuning_semantic_similarity_stsb_multi_mt\")\n",
    "Activities_text=[]\n",
    "relations=[('system checks if your car is still registered', 'you are notified', 'XOR_gateway'),\n",
    "('car is registered', 'you are notified', 'XOR_condition'),\n",
    "('system checks if your car is still registered', 'service is not necessary', 'XOR_gateway'),\n",
    "('car is not registered', 'service is not necessary', 'XOR_condition'),\n",
    "('you are notified', 'come to the service', 'Flow'),\n",
    "('come to the service', 'mechanic enters the problems of your car', 'Flow'),\n",
    "('do not go to the service', 'fined after 30 days', 'Flow'),\n",
    "('mechanic enters the problems of your car', 'get status updates via email', 'Flow'),\n",
    "('repair is done', 'pay through the app', 'Flow'),\n",
    "('mechanic enters that the repair was successful', 'got your \"Pickerl\"', 'Flow'),\n",
    "('got your \"Pickerl\"', 'mechanic enters the time for your next service', 'Flow')]\n",
    "df_text = pd.DataFrame(columns=['Source', 'Target', 'Relation'])\n",
    "for relation in relations:\n",
    "    df_text = df_text.append({'Source': relation[0], 'Target': relation[1], 'Relation': relation[2]}, ignore_index=True)\n",
    "    Activities_text.append(relation[1])\n",
    "    if relation[2]!='XOR_condition':\n",
    "        Activities_text.append(relation[0])\n",
    "queries=list(set(Activities_text))"
   ]
  },
  {
   "cell_type": "code",
   "execution_count": 7,
   "metadata": {},
   "outputs": [],
   "source": [
    "Activities_BPMN=[]\n",
    "for node in bpmn_event.get_nodes():\n",
    "    if(isinstance(node,BPMN.EndEvent) or isinstance(node,BPMN.StartEvent)):\n",
    "        continue\n",
    "    if(isinstance(node,BPMN.Activity) or isinstance(node,BPMN.Event)):\n",
    "        Activities_BPMN.append(node.name)\n",
    "\n",
    "# entity match\n",
    "df = pd.DataFrame(columns=['text', 'BPMN', 'score'])\n",
    "temp_list=[]\n",
    "for query in queries:\n",
    "    query_embedding = torch.FloatTensor(model.encode(query))\n",
    "    scores=[]\n",
    "    for activity in Activities_BPMN:\n",
    "        activity_embedding = torch.FloatTensor(model.encode(activity))\n",
    "        cos_sim = F.cosine_similarity(query_embedding, activity_embedding, dim=0)\n",
    "        scores.append(cos_sim.item())\n",
    "    # print(scores)\n",
    "    max_score_pos=np.argmax(scores)\n",
    "    max_score=np.max(scores)\n",
    "    if(max_score<0.5):\n",
    "        df = df.append({'text': query, 'BPMN': \"No match found\", 'score': max_score}, ignore_index=True)\n",
    "    else:\n",
    "        if(max_score_pos in temp_list):\n",
    "            score_tep=df.loc[df['BPMN']==Activities_BPMN[max_score_pos]]['score'].tolist()[0]\n",
    "            if(max_score>score_tep):\n",
    "                df.loc[df['BPMN']==Activities_BPMN[max_score_pos],'BPMN']=\"No match found\"\n",
    "                df = df.append({'text': query, 'BPMN': Activities_BPMN[max_score_pos], 'score': max_score}, ignore_index=True)\n",
    "            else:\n",
    "                df = df.append({'text': query, 'BPMN': \"No match found\", 'score': max_score}, ignore_index=True)\n",
    "        else:\n",
    "            temp_list.append(max_score_pos)\n",
    "            df = df.append({'text': query, 'BPMN': Activities_BPMN[max_score_pos], 'score': max_score}, ignore_index=True)\n",
    "for i in range(len(Activities_BPMN)):\n",
    "    if i not in temp_list:\n",
    "        df = df.append({'text': \"No match found\", 'BPMN': Activities_BPMN[i], 'score': 0}, ignore_index=True)"
   ]
  },
  {
   "cell_type": "code",
   "execution_count": 8,
   "metadata": {},
   "outputs": [
    {
     "name": "stdout",
     "output_type": "stream",
     "text": [
      "precision: 0.3157894736842105\n",
      "recall: 0.5454545454545454\n"
     ]
    }
   ],
   "source": [
    "# replace\n",
    "df_text_new = pd.DataFrame(columns=['Source', 'Target', 'Relation'])\n",
    "for row in df_text.itertuples(index=False):\n",
    "    source=row.Source\n",
    "    target=row.Target\n",
    "    relation=row.Relation\n",
    "    if(source!=\"No match found\"):\n",
    "        if(len(df.loc[df['text']==source]['BPMN'].tolist())>0):\n",
    "            if(df.loc[df['text']==source]['BPMN'].tolist()[0]!=\"No match found\"):\n",
    "                source=df.loc[df['text']==source]['BPMN'].tolist()[0]\n",
    "    if(target!=\"No match found\"):\n",
    "        if(len(df.loc[df['text']==target]['BPMN'].tolist())>0):\n",
    "            if(df.loc[df['text']==target]['BPMN'].tolist()[0]!=\"No match found\"):\n",
    "                target=df.loc[df['text']==target]['BPMN'].tolist()[0]\n",
    "    df_text_new = df_text_new.append({'Source': source, 'Target': target, 'Relation': relation}, ignore_index=True)\n",
    "\n",
    "list_text=[]\n",
    "for row in df_text_new.itertuples(index=False):\n",
    "    if(row.Relation!='XOR_condition'):\n",
    "        list_text.append((row.Source,row.Target,row.Relation))\n",
    "list_event=[]\n",
    "for row in df_BPMN_event.itertuples(index=False):\n",
    "    if(row.Relation!='XOR_condition'):\n",
    "        list_event.append((row.Source,row.Target,row.Relation))\n",
    "dif=set(list(set(list_text).difference(set(list_event)))+list(set(list_event).difference(set(list_text))))\n",
    "precision=len(dif.intersection(dif_gold))/(len(dif))\n",
    "recall=len(dif.intersection(dif_gold))/len(dif_gold)\n",
    "print('precision:',precision)\n",
    "print('recall:',recall)"
   ]
  },
  {
   "cell_type": "code",
   "execution_count": 9,
   "metadata": {},
   "outputs": [
    {
     "data": {
      "text/plain": [
       "{('Customer comes to the Service', 'Fined after 30 days', 'XOR_gateway'),\n",
       " ('Customer comes to the Service', 'enter car problems', 'Flow'),\n",
       " ('Customer comes to the Service', 'enter car problems', 'XOR_gateway'),\n",
       " ('Fined after 30 days',\n",
       "  'send status updates to car owner via e-mail',\n",
       "  'parallel_gateway'),\n",
       " ('Fined after 30 days', 'waiting', 'parallel_gateway'),\n",
       " ('car owner is notified', 'Customer comes to the Service', 'Flow'),\n",
       " ('car owner is notified', 'check if car is registered', 'Flow'),\n",
       " ('check if car is registered', 'Customer comes to the Service', 'Flow'),\n",
       " ('check if car is registered', 'car owner is notified', 'XOR_gateway'),\n",
       " ('check if car is registered', 'service is not necessary', 'XOR_gateway'),\n",
       " ('confirm successful repair', 'enter time for next service', 'Flow'),\n",
       " ('confirm successful repair', 'got your \"Pickerl\"', 'Flow'),\n",
       " ('do not go to the service', 'Fined after 30 days', 'Flow'),\n",
       " ('enter car problems', 'send status updates to car owner via e-mail', 'Flow'),\n",
       " ('got your \"Pickerl\"', 'enter time for next service', 'Flow'),\n",
       " ('pay through the app', 'confirm successful repair', 'Flow'),\n",
       " ('repair is done', 'pay through the app', 'Flow'),\n",
       " ('send status updates to car owner via e-mail',\n",
       "  'pay through the app',\n",
       "  'Flow'),\n",
       " ('waiting', 'pay through the app', 'Flow')}"
      ]
     },
     "execution_count": 9,
     "metadata": {},
     "output_type": "execute_result"
    }
   ],
   "source": [
    "# detected deviation relationships\n",
    "dif"
   ]
  }
 ],
 "metadata": {
  "kernelspec": {
   "display_name": "trochtest",
   "language": "python",
   "name": "python3"
  },
  "language_info": {
   "codemirror_mode": {
    "name": "ipython",
    "version": 3
   },
   "file_extension": ".py",
   "mimetype": "text/x-python",
   "name": "python",
   "nbconvert_exporter": "python",
   "pygments_lexer": "ipython3",
   "version": "3.7.16"
  }
 },
 "nbformat": 4,
 "nbformat_minor": 2
}
