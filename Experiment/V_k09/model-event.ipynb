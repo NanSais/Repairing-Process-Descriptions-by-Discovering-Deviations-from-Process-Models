{
 "cells": [
  {
   "cell_type": "code",
   "execution_count": 1,
   "metadata": {},
   "outputs": [],
   "source": [
    "from sentence_transformers import SentenceTransformer, util\n",
    "import pm4py\n",
    "from pm4py.objects.bpmn.obj import BPMN\n",
    "import torch\n",
    "import torch.nn.functional as F\n",
    "import numpy as np\n",
    "import pandas as pd"
   ]
  },
  {
   "cell_type": "code",
   "execution_count": 2,
   "metadata": {},
   "outputs": [],
   "source": [
    "bpmn = pm4py.read_bpmn('V_k09_model.bpmn')\n",
    "temp=[]\n",
    "for flow in bpmn.get_flows():\n",
    "    temp.append([flow.source,flow.target,flow.get_name()])\n",
    "\n",
    "for rel in temp:\n",
    "    if(isinstance(rel[1],BPMN.Gateway) and len(rel[1].get_in_arcs())>1):\n",
    "        rel[1]=rel[1].get_out_arcs()[0].target\n",
    "        while(isinstance(rel[1],BPMN.Gateway)):\n",
    "            rel[1]=rel[1].get_out_arcs()[0].target\n",
    "\n",
    "temp1=[]\n",
    "for rel in temp:\n",
    "    if(rel[0]==rel[1]):\n",
    "        continue\n",
    "    elif(isinstance(rel[0],BPMN.Gateway) and len(rel[0].get_in_arcs())>1):\n",
    "        continue\n",
    "    else:\n",
    "        temp1.append(rel)\n",
    "df_BPMN = pd.DataFrame(columns=['Source', 'Target', 'Relation'])\n",
    "for rel in temp1:\n",
    "    if(isinstance(rel[1],BPMN.EndEvent) or isinstance(rel[0],BPMN.StartEvent)):\n",
    "        continue\n",
    "    if(isinstance(rel[0],BPMN.ExclusiveGateway)):\n",
    "        # temp2.append([rel[0].get_in_arcs()[0].source, rel[1]])\n",
    "        df_BPMN = df_BPMN.append({'Source': rel[0].get_in_arcs()[0].source.name, 'Target': rel[1].name, 'Relation': 'XOR_gateway'}, ignore_index=True)\n",
    "        df_BPMN = df_BPMN.append({'Source': rel[2], 'Target': rel[1].name, 'Relation': 'XOR_condition'}, ignore_index=True)\n",
    "        # print([rel[0].get_in_arcs()[0].source, rel[1]])\n",
    "    elif(isinstance(rel[1],BPMN.ExclusiveGateway)):\n",
    "        continue\n",
    "    elif(isinstance(rel[0],BPMN.ParallelGateway)):\n",
    "        df_BPMN = df_BPMN.append({'Source': rel[0].get_in_arcs()[0].source.name, 'Target': rel[1].name, 'Relation': 'parallel_gateway'}, ignore_index=True)\n",
    "    elif(isinstance(rel[1],BPMN.ParallelGateway)):\n",
    "        continue\n",
    "    else:\n",
    "        df_BPMN = df_BPMN.append({'Source': rel[0].name, 'Target': rel[1].name, 'Relation': 'Flow'}, ignore_index=True)"
   ]
  },
  {
   "cell_type": "code",
   "execution_count": 3,
   "metadata": {},
   "outputs": [],
   "source": [
    "# log = pm4py.read_xes(\"R_j04_event.xes\")\n",
    "# bpmn_event = pm4py.discover_bpmn_inductive(log, activity_key='concept:name', case_id_key='case:concept:name', timestamp_key='time:timestamp')\n",
    "bpmn_event = pm4py.read_bpmn('V_k09_event.bpmn')\n",
    "temp=[]\n",
    "for flow in bpmn_event.get_flows():\n",
    "    temp.append([flow.source,flow.target,flow.get_name()])\n",
    "for rel in temp:\n",
    "    if(isinstance(rel[1],BPMN.Gateway) and len(rel[1].get_in_arcs())>1):\n",
    "        rel[1]=rel[1].get_out_arcs()[0].target\n",
    "        while(isinstance(rel[1],BPMN.Gateway)):\n",
    "            rel[1]=rel[1].get_out_arcs()[0].target\n",
    "\n",
    "temp1=[]\n",
    "for rel in temp:\n",
    "    if(rel[0]==rel[1]):\n",
    "        continue\n",
    "    elif(isinstance(rel[0],BPMN.Gateway) and len(rel[0].get_in_arcs())>1):\n",
    "        continue\n",
    "    else:\n",
    "        temp1.append(rel)\n",
    "df_BPMN_event = pd.DataFrame(columns=['Source', 'Target', 'Relation'])\n",
    "for rel in temp1:\n",
    "    if(isinstance(rel[1],BPMN.EndEvent) or isinstance(rel[0],BPMN.StartEvent)):\n",
    "        continue\n",
    "    if(isinstance(rel[0],BPMN.ExclusiveGateway)):\n",
    "        # temp2.append([rel[0].get_in_arcs()[0].source, rel[1]])\n",
    "        df_BPMN_event = df_BPMN_event.append({'Source': rel[0].get_in_arcs()[0].source.name, 'Target': rel[1].name, 'Relation': 'XOR_gateway'}, ignore_index=True)\n",
    "        df_BPMN_event = df_BPMN_event.append({'Source': rel[2], 'Target': rel[1].name, 'Relation': 'XOR_condition'}, ignore_index=True)\n",
    "        # print([rel[0].get_in_arcs()[0].source, rel[1]])\n",
    "    elif(isinstance(rel[1],BPMN.ExclusiveGateway)):\n",
    "        continue\n",
    "    elif(isinstance(rel[0],BPMN.ParallelGateway)):\n",
    "        df_BPMN_event = df_BPMN_event.append({'Source': rel[0].get_in_arcs()[0].source.name, 'Target': rel[1].name, 'Relation': 'parallel_gateway'}, ignore_index=True)\n",
    "    elif(isinstance(rel[1],BPMN.ParallelGateway)):\n",
    "        continue\n",
    "    else:\n",
    "        df_BPMN_event = df_BPMN_event.append({'Source': rel[0].name, 'Target': rel[1].name, 'Relation': 'Flow'}, ignore_index=True)"
   ]
  },
  {
   "cell_type": "code",
   "execution_count": 4,
   "metadata": {},
   "outputs": [],
   "source": [
    "list_event=[]\n",
    "for row in df_BPMN_event.itertuples(index=False):\n",
    "    if(row.Relation!='XOR_condition'):\n",
    "        list_event.append((row.Source,row.Target,row.Relation))\n",
    "list_BPMN=[]\n",
    "for row in df_BPMN.itertuples(index=False):\n",
    "    if(row.Relation!='XOR_condition'):\n",
    "        list_BPMN.append((row.Source,row.Target,row.Relation))\n",
    "dif_gold=set(list(set(list_BPMN).difference(set(list_event)))+list(set(list_event).difference(set(list_BPMN))))"
   ]
  },
  {
   "cell_type": "code",
   "execution_count": 5,
   "metadata": {},
   "outputs": [
    {
     "name": "stderr",
     "output_type": "stream",
     "text": [
      "c:\\Users\\20235451\\.conda\\envs\\trochtest\\lib\\site-packages\\pm4py\\util\\dt_parsing\\parser.py:78: UserWarning: ISO8601 strings are not fully supported with strpfromiso for Python versions below 3.11\n",
      "  \"ISO8601 strings are not fully supported with strpfromiso for Python versions below 3.11\")\n"
     ]
    },
    {
     "data": {
      "application/vnd.jupyter.widget-view+json": {
       "model_id": "2c675ded7d6741a183104f380df4f35e",
       "version_major": 2,
       "version_minor": 0
      },
      "text/plain": [
       "parsing log, completed traces ::   0%|          | 0/1000 [00:00<?, ?it/s]"
      ]
     },
     "metadata": {},
     "output_type": "display_data"
    }
   ],
   "source": [
    "log = pm4py.read_xes(\"V_k09_event.xes\")\n",
    "bpmn_event = pm4py.discover_bpmn_inductive(log, activity_key='concept:name', case_id_key='case:concept:name', timestamp_key='time:timestamp')\n",
    "# bpmn_event = pm4py.read_bpmn('R_j04_event.bpmn')\n",
    "temp=[]\n",
    "for flow in bpmn_event.get_flows():\n",
    "    temp.append([flow.source,flow.target,flow.get_name()])\n",
    "temp1=[]\n",
    "for rel in temp:\n",
    "    if(isinstance(rel[1],BPMN.Gateway) and len(rel[1].get_in_arcs())>1):\n",
    "        temp1.append([rel[0], rel[1].get_out_arcs()[0].target, rel[2]])\n",
    "        # print([rel[0],rel[1].get_out_arcs()[0].target])\n",
    "    elif(isinstance(rel[0],BPMN.Gateway) and len(rel[0].get_in_arcs())>1):\n",
    "        continue\n",
    "    else:\n",
    "        temp1.append(rel)\n",
    "df_BPMN_event = pd.DataFrame(columns=['Source', 'Target', 'Relation'])\n",
    "for rel in temp1:\n",
    "    if(isinstance(rel[1],BPMN.EndEvent) or isinstance(rel[0],BPMN.StartEvent)):\n",
    "        continue\n",
    "    if(isinstance(rel[0],BPMN.ExclusiveGateway)):\n",
    "        # temp2.append([rel[0].get_in_arcs()[0].source, rel[1]])\n",
    "        df_BPMN_event = df_BPMN_event.append({'Source': rel[0].get_in_arcs()[0].source.name, 'Target': rel[1].name, 'Relation': 'XOR_gateway'}, ignore_index=True)\n",
    "        df_BPMN_event = df_BPMN_event.append({'Source': rel[2], 'Target': rel[1].name, 'Relation': 'XOR_condition'}, ignore_index=True)\n",
    "        # print([rel[0].get_in_arcs()[0].source, rel[1]])\n",
    "    elif(isinstance(rel[1],BPMN.ExclusiveGateway)):\n",
    "        continue\n",
    "    elif(isinstance(rel[0],BPMN.ParallelGateway)):\n",
    "        df_BPMN_event = df_BPMN_event.append({'Source': rel[0].get_in_arcs()[0].source.name, 'Target': rel[1].name, 'Relation': 'parallel_gateway'}, ignore_index=True)\n",
    "    elif(isinstance(rel[1],BPMN.ParallelGateway)):\n",
    "        continue\n",
    "    else:\n",
    "        df_BPMN_event = df_BPMN_event.append({'Source': rel[0].name, 'Target': rel[1].name, 'Relation': 'Flow'}, ignore_index=True)"
   ]
  },
  {
   "cell_type": "code",
   "execution_count": 7,
   "metadata": {},
   "outputs": [
    {
     "name": "stdout",
     "output_type": "stream",
     "text": [
      "precision: 1.0\n",
      "recall: 1.0\n"
     ]
    }
   ],
   "source": [
    "list_model=[]\n",
    "for row in df_BPMN.itertuples(index=False):\n",
    "    if(row.Relation!='XOR_condition'):\n",
    "        list_model.append((row.Source,row.Target,row.Relation))\n",
    "list_event=[]\n",
    "for row in df_BPMN_event.itertuples(index=False):\n",
    "    if(row.Relation!='XOR_condition'):\n",
    "        list_event.append((row.Source,row.Target,row.Relation))\n",
    "dif=set(list(set(list_model).difference(set(list_event)))+list(set(list_event).difference(set(list_model))))\n",
    "precision=len(dif.intersection(dif_gold))/(len(dif))\n",
    "recall=len(dif.intersection(dif_gold))/len(dif_gold)\n",
    "print('precision:',precision)\n",
    "print('recall:',recall)"
   ]
  },
  {
   "cell_type": "code",
   "execution_count": 8,
   "metadata": {},
   "outputs": [
    {
     "data": {
      "text/plain": [
       "{('Check if  product is in stock',\n",
       "  'Read order from the automatic order management system',\n",
       "  'Flow'),\n",
       " ('Check if  product is in stock', 'Waiting until arrives', 'XOR_gateway'),\n",
       " ('Check if  product is in stock',\n",
       "  'Withdraw the Product from warehouse',\n",
       "  'XOR_gateway'),\n",
       " ('Check if the whole order is ready for shipment',\n",
       "  'Check if  product is in stock',\n",
       "  'XOR_gateway'),\n",
       " ('Check if the whole order is ready for shipment',\n",
       "  'Read order from the automatic order management system',\n",
       "  'XOR_gateway'),\n",
       " ('Read order from the automatic order management system',\n",
       "  'Check if  product is in stock',\n",
       "  'Flow'),\n",
       " ('Read order from the automatic order management system',\n",
       "  'Reorder from wholesaler',\n",
       "  'parallel_gateway'),\n",
       " ('Read order from the automatic order management system',\n",
       "  'Withdraw the Product from warehouse',\n",
       "  'parallel_gateway'),\n",
       " ('Reorder from wholesaler',\n",
       "  'Demand delivery delay penalty from the wholesaler',\n",
       "  'Flow'),\n",
       " ('Reorder from wholesaler', 'Waiting until arrives', 'Flow'),\n",
       " ('Waiting until arrives',\n",
       "  'Demand delivery delay penalty from the wholesaler',\n",
       "  'XOR_gateway'),\n",
       " ('Waiting until arrives',\n",
       "  'Register in stock management system',\n",
       "  'XOR_gateway'),\n",
       " ('Waiting until arrives', 'Reorder from wholesaler', 'Flow')}"
      ]
     },
     "execution_count": 8,
     "metadata": {},
     "output_type": "execute_result"
    }
   ],
   "source": [
    "# detected deviation relationships\n",
    "dif"
   ]
  }
 ],
 "metadata": {
  "kernelspec": {
   "display_name": "trochtest",
   "language": "python",
   "name": "python3"
  },
  "language_info": {
   "codemirror_mode": {
    "name": "ipython",
    "version": 3
   },
   "file_extension": ".py",
   "mimetype": "text/x-python",
   "name": "python",
   "nbconvert_exporter": "python",
   "pygments_lexer": "ipython3",
   "version": "3.7.16"
  }
 },
 "nbformat": 4,
 "nbformat_minor": 2
}
